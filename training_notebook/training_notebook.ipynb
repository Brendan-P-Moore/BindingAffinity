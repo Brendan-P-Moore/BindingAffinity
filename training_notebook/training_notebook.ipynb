{
 "cells": [
  {
   "cell_type": "code",
   "execution_count": 1,
   "id": "5b88d21f-8e58-426b-8d58-edd3a6f92285",
   "metadata": {
    "collapsed": true,
    "jupyter": {
     "outputs_hidden": true
    },
    "tags": []
   },
   "outputs": [
    {
     "name": "stdout",
     "output_type": "stream",
     "text": [
      "\u001b[33mWARNING: Ignoring invalid distribution -ransformers (/usr/local/lib/python3.9/dist-packages)\u001b[0m\u001b[33m\n",
      "\u001b[0m\u001b[33mWARNING: Ignoring invalid distribution -ransformers (/usr/local/lib/python3.9/dist-packages)\u001b[0m\u001b[33m\n",
      "\u001b[0mRequirement already satisfied: biopython in /usr/local/lib/python3.9/dist-packages (1.81)\n",
      "Requirement already satisfied: numpy in /usr/local/lib/python3.9/dist-packages (from biopython) (1.23.4)\n",
      "\u001b[33mWARNING: Ignoring invalid distribution -ransformers (/usr/local/lib/python3.9/dist-packages)\u001b[0m\u001b[33m\n",
      "\u001b[0m\u001b[33mWARNING: Running pip as the 'root' user can result in broken permissions and conflicting behaviour with the system package manager. It is recommended to use a virtual environment instead: https://pip.pypa.io/warnings/venv\u001b[0m\u001b[33m\n",
      "\u001b[0m"
     ]
    }
   ],
   "source": [
    "!pip install biopython"
   ]
  },
  {
   "cell_type": "code",
   "execution_count": 2,
   "id": "a9d21bf8-107d-4620-9447-c1b9cbec8152",
   "metadata": {
    "collapsed": true,
    "jupyter": {
     "outputs_hidden": true
    },
    "tags": []
   },
   "outputs": [
    {
     "name": "stdout",
     "output_type": "stream",
     "text": [
      "\u001b[33mWARNING: Ignoring invalid distribution -ransformers (/usr/local/lib/python3.9/dist-packages)\u001b[0m\u001b[33m\n",
      "\u001b[0m\u001b[33mWARNING: Ignoring invalid distribution -ransformers (/usr/local/lib/python3.9/dist-packages)\u001b[0m\u001b[33m\n",
      "\u001b[0mRequirement already satisfied: rdkit in /usr/local/lib/python3.9/dist-packages (2022.9.5)\n",
      "Requirement already satisfied: numpy in /usr/local/lib/python3.9/dist-packages (from rdkit) (1.23.4)\n",
      "Requirement already satisfied: Pillow in /usr/local/lib/python3.9/dist-packages (from rdkit) (9.4.0)\n",
      "\u001b[33mWARNING: Ignoring invalid distribution -ransformers (/usr/local/lib/python3.9/dist-packages)\u001b[0m\u001b[33m\n",
      "\u001b[0m\u001b[33mWARNING: Running pip as the 'root' user can result in broken permissions and conflicting behaviour with the system package manager. It is recommended to use a virtual environment instead: https://pip.pypa.io/warnings/venv\u001b[0m\u001b[33m\n",
      "\u001b[0m"
     ]
    }
   ],
   "source": [
    "!pip install rdkit"
   ]
  },
  {
   "cell_type": "code",
   "execution_count": 3,
   "id": "2319dcd4-6d97-4eb3-9f30-0b03836e71e7",
   "metadata": {
    "collapsed": true,
    "jupyter": {
     "outputs_hidden": true
    },
    "tags": []
   },
   "outputs": [
    {
     "name": "stdout",
     "output_type": "stream",
     "text": [
      "\u001b[33mWARNING: Ignoring invalid distribution -ransformers (/usr/local/lib/python3.9/dist-packages)\u001b[0m\u001b[33m\n",
      "\u001b[0m\u001b[33mWARNING: Ignoring invalid distribution -ransformers (/usr/local/lib/python3.9/dist-packages)\u001b[0m\u001b[33m\n",
      "\u001b[0mRequirement already satisfied: chembl_webresource_client in /usr/local/lib/python3.9/dist-packages (0.10.8)\n",
      "Requirement already satisfied: urllib3 in /usr/local/lib/python3.9/dist-packages (from chembl_webresource_client) (1.26.14)\n",
      "Requirement already satisfied: requests-cache~=0.7.0 in /usr/local/lib/python3.9/dist-packages (from chembl_webresource_client) (0.7.5)\n",
      "Requirement already satisfied: easydict in /usr/local/lib/python3.9/dist-packages (from chembl_webresource_client) (1.10)\n",
      "Requirement already satisfied: requests>=2.18.4 in /usr/local/lib/python3.9/dist-packages (from chembl_webresource_client) (2.28.2)\n",
      "Requirement already satisfied: charset-normalizer<4,>=2 in /usr/local/lib/python3.9/dist-packages (from requests>=2.18.4->chembl_webresource_client) (2.1.1)\n",
      "Requirement already satisfied: certifi>=2017.4.17 in /usr/lib/python3/dist-packages (from requests>=2.18.4->chembl_webresource_client) (2019.11.28)\n",
      "Requirement already satisfied: idna<4,>=2.5 in /usr/lib/python3/dist-packages (from requests>=2.18.4->chembl_webresource_client) (2.8)\n",
      "Requirement already satisfied: pyyaml>=5.4 in /usr/local/lib/python3.9/dist-packages (from requests-cache~=0.7.0->chembl_webresource_client) (5.4.1)\n",
      "Requirement already satisfied: itsdangerous>=2.0.1 in /usr/local/lib/python3.9/dist-packages (from requests-cache~=0.7.0->chembl_webresource_client) (2.1.2)\n",
      "Requirement already satisfied: url-normalize<2.0,>=1.4 in /usr/local/lib/python3.9/dist-packages (from requests-cache~=0.7.0->chembl_webresource_client) (1.4.3)\n",
      "Requirement already satisfied: attrs<22.0,>=21.2 in /usr/local/lib/python3.9/dist-packages (from requests-cache~=0.7.0->chembl_webresource_client) (21.4.0)\n",
      "Requirement already satisfied: six in /usr/lib/python3/dist-packages (from url-normalize<2.0,>=1.4->requests-cache~=0.7.0->chembl_webresource_client) (1.14.0)\n",
      "\u001b[33mWARNING: Ignoring invalid distribution -ransformers (/usr/local/lib/python3.9/dist-packages)\u001b[0m\u001b[33m\n",
      "\u001b[0m\u001b[33mWARNING: Running pip as the 'root' user can result in broken permissions and conflicting behaviour with the system package manager. It is recommended to use a virtual environment instead: https://pip.pypa.io/warnings/venv\u001b[0m\u001b[33m\n",
      "\u001b[0m"
     ]
    }
   ],
   "source": [
    "!pip install chembl_webresource_client"
   ]
  },
  {
   "cell_type": "code",
   "execution_count": 4,
   "id": "33605dd5-b4af-4df9-993a-96e22923ca41",
   "metadata": {
    "collapsed": true,
    "jupyter": {
     "outputs_hidden": true
    },
    "tags": []
   },
   "outputs": [
    {
     "name": "stdout",
     "output_type": "stream",
     "text": [
      "\u001b[33mWARNING: Ignoring invalid distribution -ransformers (/usr/local/lib/python3.9/dist-packages)\u001b[0m\u001b[33m\n",
      "\u001b[0m\u001b[33mWARNING: Ignoring invalid distribution -ransformers (/usr/local/lib/python3.9/dist-packages)\u001b[0m\u001b[33m\n",
      "\u001b[0mRequirement already satisfied: propy3 in /usr/local/lib/python3.9/dist-packages (1.1.1)\n",
      "\u001b[33mWARNING: Ignoring invalid distribution -ransformers (/usr/local/lib/python3.9/dist-packages)\u001b[0m\u001b[33m\n",
      "\u001b[0m\u001b[33mWARNING: Running pip as the 'root' user can result in broken permissions and conflicting behaviour with the system package manager. It is recommended to use a virtual environment instead: https://pip.pypa.io/warnings/venv\u001b[0m\u001b[33m\n",
      "\u001b[0m"
     ]
    }
   ],
   "source": [
    "!pip install propy3"
   ]
  },
  {
   "cell_type": "code",
   "execution_count": 5,
   "id": "c938a08c-5097-4236-ad43-091421bcba0a",
   "metadata": {
    "collapsed": true,
    "jupyter": {
     "outputs_hidden": true
    },
    "tags": []
   },
   "outputs": [
    {
     "name": "stdout",
     "output_type": "stream",
     "text": [
      "\u001b[33mWARNING: Ignoring invalid distribution -ransformers (/usr/local/lib/python3.9/dist-packages)\u001b[0m\u001b[33m\n",
      "\u001b[0m\u001b[33mWARNING: Ignoring invalid distribution -ransformers (/usr/local/lib/python3.9/dist-packages)\u001b[0m\u001b[33m\n",
      "\u001b[0mRequirement already satisfied: peptides in /usr/local/lib/python3.9/dist-packages (0.3.1)\n",
      "\u001b[33mWARNING: Ignoring invalid distribution -ransformers (/usr/local/lib/python3.9/dist-packages)\u001b[0m\u001b[33m\n",
      "\u001b[0m\u001b[33mWARNING: Running pip as the 'root' user can result in broken permissions and conflicting behaviour with the system package manager. It is recommended to use a virtual environment instead: https://pip.pypa.io/warnings/venv\u001b[0m\u001b[33m\n",
      "\u001b[0m"
     ]
    }
   ],
   "source": [
    "!pip install peptides"
   ]
  },
  {
   "cell_type": "code",
   "execution_count": 6,
   "id": "74d5ffee-da40-4e7b-962f-382aac18cde2",
   "metadata": {
    "collapsed": true,
    "jupyter": {
     "outputs_hidden": true
    },
    "tags": []
   },
   "outputs": [
    {
     "name": "stdout",
     "output_type": "stream",
     "text": [
      "\u001b[33mWARNING: Ignoring invalid distribution -ransformers (/usr/local/lib/python3.9/dist-packages)\u001b[0m\u001b[33m\n",
      "\u001b[0m\u001b[33mWARNING: Ignoring invalid distribution -ransformers (/usr/local/lib/python3.9/dist-packages)\u001b[0m\u001b[33m\n",
      "\u001b[0mCollecting autogluon\n",
      "  Using cached autogluon-0.7.0-py3-none-any.whl (9.7 kB)\n",
      "Collecting autogluon.tabular[all]==0.7.0\n",
      "  Using cached autogluon.tabular-0.7.0-py3-none-any.whl (292 kB)\n",
      "Collecting autogluon.features==0.7.0\n",
      "  Using cached autogluon.features-0.7.0-py3-none-any.whl (60 kB)\n",
      "Collecting autogluon.multimodal==0.7.0\n",
      "  Using cached autogluon.multimodal-0.7.0-py3-none-any.whl (331 kB)\n",
      "Collecting autogluon.core[all]==0.7.0\n",
      "  Using cached autogluon.core-0.7.0-py3-none-any.whl (218 kB)\n",
      "Collecting autogluon.timeseries[all]==0.7.0\n",
      "  Using cached autogluon.timeseries-0.7.0-py3-none-any.whl (108 kB)\n",
      "Requirement already satisfied: scipy<1.12,>=1.5.4 in /usr/local/lib/python3.9/dist-packages (from autogluon.core[all]==0.7.0->autogluon) (1.9.2)\n",
      "Requirement already satisfied: tqdm<5,>=4.38 in /usr/local/lib/python3.9/dist-packages (from autogluon.core[all]==0.7.0->autogluon) (4.64.1)\n",
      "Requirement already satisfied: matplotlib in /usr/local/lib/python3.9/dist-packages (from autogluon.core[all]==0.7.0->autogluon) (3.6.1)\n",
      "Requirement already satisfied: numpy<1.27,>=1.21 in /usr/local/lib/python3.9/dist-packages (from autogluon.core[all]==0.7.0->autogluon) (1.23.4)\n",
      "Requirement already satisfied: scikit-learn<1.3,>=1.0 in /usr/local/lib/python3.9/dist-packages (from autogluon.core[all]==0.7.0->autogluon) (1.1.2)\n",
      "Requirement already satisfied: boto3<2,>=1.10 in /usr/local/lib/python3.9/dist-packages (from autogluon.core[all]==0.7.0->autogluon) (1.24.90)\n",
      "Requirement already satisfied: pandas<1.6,>=1.4.1 in /usr/local/lib/python3.9/dist-packages (from autogluon.core[all]==0.7.0->autogluon) (1.5.0)\n",
      "Collecting autogluon.common==0.7.0\n",
      "  Using cached autogluon.common-0.7.0-py3-none-any.whl (45 kB)\n",
      "Requirement already satisfied: networkx<3.0,>=2.3 in /usr/local/lib/python3.9/dist-packages (from autogluon.core[all]==0.7.0->autogluon) (2.8.8)\n",
      "Requirement already satisfied: requests in /usr/local/lib/python3.9/dist-packages (from autogluon.core[all]==0.7.0->autogluon) (2.28.2)\n",
      "Requirement already satisfied: ray[tune]<2.3,>=2.2 in /usr/local/lib/python3.9/dist-packages (from autogluon.core[all]==0.7.0->autogluon) (2.2.0)\n",
      "Requirement already satisfied: hyperopt<0.2.8,>=0.2.7 in /usr/local/lib/python3.9/dist-packages (from autogluon.core[all]==0.7.0->autogluon) (0.2.7)\n",
      "Requirement already satisfied: jsonschema<4.18,>=4.14 in /usr/local/lib/python3.9/dist-packages (from autogluon.multimodal==0.7.0->autogluon) (4.17.3)\n",
      "Requirement already satisfied: tensorboard<3,>=2.9 in /usr/local/lib/python3.9/dist-packages (from autogluon.multimodal==0.7.0->autogluon) (2.9.1)\n",
      "Requirement already satisfied: text-unidecode<1.4,>=1.3 in /usr/local/lib/python3.9/dist-packages (from autogluon.multimodal==0.7.0->autogluon) (1.3)\n",
      "Collecting pytorch-metric-learning<2.0,>=1.3.0\n",
      "  Using cached pytorch_metric_learning-1.7.3-py3-none-any.whl (112 kB)\n",
      "Collecting openmim<0.4.0,>0.1.5\n",
      "  Using cached openmim-0.3.7-py2.py3-none-any.whl (51 kB)\n",
      "Requirement already satisfied: transformers<4.27.0,>=4.23.0 in /usr/local/lib/python3.9/dist-packages (from autogluon.multimodal==0.7.0->autogluon) (4.26.1)\n",
      "Requirement already satisfied: nltk<4.0.0,>=3.4.5 in /usr/local/lib/python3.9/dist-packages (from autogluon.multimodal==0.7.0->autogluon) (3.7)\n",
      "Requirement already satisfied: torch<1.14,>=1.9 in /usr/local/lib/python3.9/dist-packages (from autogluon.multimodal==0.7.0->autogluon) (1.12.1+cu116)\n",
      "Requirement already satisfied: sentencepiece<0.2.0,>=0.1.95 in /usr/local/lib/python3.9/dist-packages (from autogluon.multimodal==0.7.0->autogluon) (0.1.97)\n",
      "Requirement already satisfied: nptyping<2.5.0,>=1.4.4 in /usr/local/lib/python3.9/dist-packages (from autogluon.multimodal==0.7.0->autogluon) (2.4.1)\n",
      "Requirement already satisfied: jinja2<3.2,>=3.0.3 in /usr/local/lib/python3.9/dist-packages (from autogluon.multimodal==0.7.0->autogluon) (3.1.2)\n",
      "Collecting evaluate<0.4.0,>=0.2.2\n",
      "  Using cached evaluate-0.3.0-py3-none-any.whl (72 kB)\n",
      "Requirement already satisfied: pytesseract<0.3.11,>=0.3.9 in /usr/local/lib/python3.9/dist-packages (from autogluon.multimodal==0.7.0->autogluon) (0.3.10)\n",
      "Requirement already satisfied: Pillow<9.6,>=9.3 in /usr/local/lib/python3.9/dist-packages (from autogluon.multimodal==0.7.0->autogluon) (9.4.0)\n",
      "Collecting pytorch-lightning<1.10.0,>=1.9.0\n",
      "  Using cached pytorch_lightning-1.9.4-py3-none-any.whl (827 kB)\n",
      "Requirement already satisfied: fairscale<0.4.14,>=0.4.5 in /usr/local/lib/python3.9/dist-packages (from autogluon.multimodal==0.7.0->autogluon) (0.4.13)\n",
      "Collecting nlpaug<1.2.0,>=1.1.10\n",
      "  Using cached nlpaug-1.1.11-py3-none-any.whl (410 kB)\n",
      "Requirement already satisfied: torchmetrics<0.9.0,>=0.8.0 in /usr/local/lib/python3.9/dist-packages (from autogluon.multimodal==0.7.0->autogluon) (0.8.2)\n",
      "Requirement already satisfied: defusedxml<0.7.2,>=0.7.1 in /usr/local/lib/python3.9/dist-packages (from autogluon.multimodal==0.7.0->autogluon) (0.7.1)\n",
      "Requirement already satisfied: accelerate<0.17,>=0.9 in /usr/local/lib/python3.9/dist-packages (from autogluon.multimodal==0.7.0->autogluon) (0.16.0)\n",
      "Requirement already satisfied: scikit-image<0.20.0,>=0.19.1 in /usr/local/lib/python3.9/dist-packages (from autogluon.multimodal==0.7.0->autogluon) (0.19.3)\n",
      "Collecting seqeval<1.3.0,>=1.2.2\n",
      "  Using cached seqeval-1.2.2-py3-none-any.whl\n",
      "Requirement already satisfied: torchvision<0.15.0 in /usr/local/lib/python3.9/dist-packages (from autogluon.multimodal==0.7.0->autogluon) (0.13.1+cu116)\n",
      "Collecting timm<0.7.0,>=0.6.12\n",
      "  Using cached timm-0.6.13-py3-none-any.whl (549 kB)\n",
      "Requirement already satisfied: omegaconf<2.3.0,>=2.1.1 in /usr/local/lib/python3.9/dist-packages (from autogluon.multimodal==0.7.0->autogluon) (2.2.3)\n",
      "Requirement already satisfied: xgboost<1.8,>=1.6 in /usr/local/lib/python3.9/dist-packages (from autogluon.tabular[all]==0.7.0->autogluon) (1.6.2)\n",
      "Collecting catboost<1.2,>=1.0\n",
      "  Using cached catboost-1.1.1-cp39-none-manylinux1_x86_64.whl (76.6 MB)\n",
      "Collecting lightgbm<3.4,>=3.3\n",
      "  Using cached lightgbm-3.3.5-py3-none-manylinux1_x86_64.whl (2.0 MB)\n",
      "Collecting fastai<2.8,>=2.3.1\n",
      "  Using cached fastai-2.7.12-py3-none-any.whl (233 kB)\n",
      "Collecting statsforecast<1.5,>=1.4.0\n",
      "  Using cached statsforecast-1.4.0-py3-none-any.whl (91 kB)\n",
      "Requirement already satisfied: ujson<6,>=5 in /usr/local/lib/python3.9/dist-packages (from autogluon.timeseries[all]==0.7.0->autogluon) (5.7.0)\n",
      "Collecting gluonts<0.13,>=0.12.0\n",
      "  Using cached gluonts-0.12.5-py3-none-any.whl (1.2 MB)\n",
      "Requirement already satisfied: joblib<2,>=1.1 in /usr/local/lib/python3.9/dist-packages (from autogluon.timeseries[all]==0.7.0->autogluon) (1.2.0)\n",
      "Collecting statsmodels<0.14,>=0.13.0\n",
      "  Using cached statsmodels-0.13.5-cp39-cp39-manylinux_2_17_x86_64.manylinux2014_x86_64.whl (9.9 MB)\n",
      "Collecting tbats<2,>=1.1\n",
      "  Using cached tbats-1.1.2-py3-none-any.whl (43 kB)\n",
      "Collecting sktime<0.16,>=0.14\n",
      "  Using cached sktime-0.15.1-py3-none-any.whl (16.0 MB)\n",
      "Collecting pmdarima<1.9,>=1.8.2\n",
      "  Using cached pmdarima-1.8.5-cp39-cp39-manylinux_2_17_x86_64.manylinux2014_x86_64.manylinux_2_24_x86_64.whl (1.4 MB)\n",
      "Requirement already satisfied: setuptools in /usr/local/lib/python3.9/dist-packages (from autogluon.common==0.7.0->autogluon.core[all]==0.7.0->autogluon) (66.1.1)\n",
      "Requirement already satisfied: psutil<6,>=5.7.3 in /usr/local/lib/python3.9/dist-packages (from autogluon.common==0.7.0->autogluon.core[all]==0.7.0->autogluon) (5.9.4)\n",
      "Requirement already satisfied: packaging>=20.0 in /usr/local/lib/python3.9/dist-packages (from accelerate<0.17,>=0.9->autogluon.multimodal==0.7.0->autogluon) (23.0)\n",
      "Requirement already satisfied: pyyaml in /usr/local/lib/python3.9/dist-packages (from accelerate<0.17,>=0.9->autogluon.multimodal==0.7.0->autogluon) (5.4.1)\n",
      "Requirement already satisfied: botocore<1.28.0,>=1.27.90 in /usr/local/lib/python3.9/dist-packages (from boto3<2,>=1.10->autogluon.core[all]==0.7.0->autogluon) (1.27.90)\n",
      "Requirement already satisfied: s3transfer<0.7.0,>=0.6.0 in /usr/local/lib/python3.9/dist-packages (from boto3<2,>=1.10->autogluon.core[all]==0.7.0->autogluon) (0.6.0)\n",
      "Requirement already satisfied: jmespath<2.0.0,>=0.7.1 in /usr/local/lib/python3.9/dist-packages (from boto3<2,>=1.10->autogluon.core[all]==0.7.0->autogluon) (1.0.1)\n",
      "Requirement already satisfied: six in /usr/lib/python3/dist-packages (from catboost<1.2,>=1.0->autogluon.tabular[all]==0.7.0->autogluon) (1.14.0)\n",
      "Requirement already satisfied: plotly in /usr/local/lib/python3.9/dist-packages (from catboost<1.2,>=1.0->autogluon.tabular[all]==0.7.0->autogluon) (5.14.0)\n",
      "Requirement already satisfied: graphviz in /usr/local/lib/python3.9/dist-packages (from catboost<1.2,>=1.0->autogluon.tabular[all]==0.7.0->autogluon) (0.20.1)\n",
      "Requirement already satisfied: xxhash in /usr/local/lib/python3.9/dist-packages (from evaluate<0.4.0,>=0.2.2->autogluon.multimodal==0.7.0->autogluon) (3.2.0)\n",
      "Requirement already satisfied: responses<0.19 in /usr/local/lib/python3.9/dist-packages (from evaluate<0.4.0,>=0.2.2->autogluon.multimodal==0.7.0->autogluon) (0.18.0)\n",
      "Requirement already satisfied: datasets>=2.0.0 in /usr/local/lib/python3.9/dist-packages (from evaluate<0.4.0,>=0.2.2->autogluon.multimodal==0.7.0->autogluon) (2.4.0)\n",
      "Requirement already satisfied: dill in /usr/local/lib/python3.9/dist-packages (from evaluate<0.4.0,>=0.2.2->autogluon.multimodal==0.7.0->autogluon) (0.3.5.1)\n",
      "Requirement already satisfied: multiprocess in /usr/local/lib/python3.9/dist-packages (from evaluate<0.4.0,>=0.2.2->autogluon.multimodal==0.7.0->autogluon) (0.70.13)\n",
      "Requirement already satisfied: huggingface-hub>=0.7.0 in /usr/local/lib/python3.9/dist-packages (from evaluate<0.4.0,>=0.2.2->autogluon.multimodal==0.7.0->autogluon) (0.12.0)\n",
      "Requirement already satisfied: fsspec[http]>=2021.05.0 in /usr/local/lib/python3.9/dist-packages (from evaluate<0.4.0,>=0.2.2->autogluon.multimodal==0.7.0->autogluon) (2023.1.0)\n",
      "Requirement already satisfied: fastdownload<2,>=0.0.5 in /usr/local/lib/python3.9/dist-packages (from fastai<2.8,>=2.3.1->autogluon.tabular[all]==0.7.0->autogluon) (0.0.7)\n",
      "Requirement already satisfied: fastprogress>=0.2.4 in /usr/local/lib/python3.9/dist-packages (from fastai<2.8,>=2.3.1->autogluon.tabular[all]==0.7.0->autogluon) (1.0.3)\n",
      "Requirement already satisfied: spacy<4 in /usr/local/lib/python3.9/dist-packages (from fastai<2.8,>=2.3.1->autogluon.tabular[all]==0.7.0->autogluon) (3.4.1)\n",
      "Requirement already satisfied: fastcore<1.6,>=1.5.29 in /usr/local/lib/python3.9/dist-packages (from fastai<2.8,>=2.3.1->autogluon.tabular[all]==0.7.0->autogluon) (1.5.29)\n",
      "Requirement already satisfied: pip in /usr/local/lib/python3.9/dist-packages (from fastai<2.8,>=2.3.1->autogluon.tabular[all]==0.7.0->autogluon) (22.3.1)\n",
      "Requirement already satisfied: pydantic~=1.7 in /usr/local/lib/python3.9/dist-packages (from gluonts<0.13,>=0.12.0->autogluon.timeseries[all]==0.7.0->autogluon) (1.9.2)\n",
      "Requirement already satisfied: toolz~=0.10 in /usr/local/lib/python3.9/dist-packages (from gluonts<0.13,>=0.12.0->autogluon.timeseries[all]==0.7.0->autogluon) (0.12.0)\n",
      "Requirement already satisfied: typing-extensions~=4.0 in /usr/local/lib/python3.9/dist-packages (from gluonts<0.13,>=0.12.0->autogluon.timeseries[all]==0.7.0->autogluon) (4.4.0)\n",
      "Requirement already satisfied: cloudpickle in /usr/local/lib/python3.9/dist-packages (from hyperopt<0.2.8,>=0.2.7->autogluon.core[all]==0.7.0->autogluon) (2.2.0)\n",
      "Requirement already satisfied: py4j in /usr/local/lib/python3.9/dist-packages (from hyperopt<0.2.8,>=0.2.7->autogluon.core[all]==0.7.0->autogluon) (0.10.9.7)\n",
      "Requirement already satisfied: future in /usr/lib/python3/dist-packages (from hyperopt<0.2.8,>=0.2.7->autogluon.core[all]==0.7.0->autogluon) (0.18.2)\n",
      "Requirement already satisfied: MarkupSafe>=2.0 in /usr/local/lib/python3.9/dist-packages (from jinja2<3.2,>=3.0.3->autogluon.multimodal==0.7.0->autogluon) (2.1.2)\n",
      "Requirement already satisfied: pyrsistent!=0.17.0,!=0.17.1,!=0.17.2,>=0.14.0 in /usr/local/lib/python3.9/dist-packages (from jsonschema<4.18,>=4.14->autogluon.multimodal==0.7.0->autogluon) (0.19.3)\n",
      "Requirement already satisfied: attrs>=17.4.0 in /usr/local/lib/python3.9/dist-packages (from jsonschema<4.18,>=4.14->autogluon.multimodal==0.7.0->autogluon) (21.4.0)\n",
      "Requirement already satisfied: wheel in /usr/local/lib/python3.9/dist-packages (from lightgbm<3.4,>=3.3->autogluon.tabular[all]==0.7.0->autogluon) (0.35.1)\n",
      "Requirement already satisfied: gdown>=4.0.0 in /usr/local/lib/python3.9/dist-packages (from nlpaug<1.2.0,>=1.1.10->autogluon.multimodal==0.7.0->autogluon) (4.5.1)\n",
      "Requirement already satisfied: regex>=2021.8.3 in /usr/local/lib/python3.9/dist-packages (from nltk<4.0.0,>=3.4.5->autogluon.multimodal==0.7.0->autogluon) (2022.10.31)\n",
      "Requirement already satisfied: click in /usr/local/lib/python3.9/dist-packages (from nltk<4.0.0,>=3.4.5->autogluon.multimodal==0.7.0->autogluon) (8.1.3)\n",
      "Requirement already satisfied: antlr4-python3-runtime==4.9.* in /usr/local/lib/python3.9/dist-packages (from omegaconf<2.3.0,>=2.1.1->autogluon.multimodal==0.7.0->autogluon) (4.9.3)\n",
      "Collecting model-index\n",
      "  Using cached model_index-0.1.11-py3-none-any.whl (34 kB)\n",
      "Requirement already satisfied: colorama in /usr/local/lib/python3.9/dist-packages (from openmim<0.4.0,>0.1.5->autogluon.multimodal==0.7.0->autogluon) (0.4.3)\n",
      "Requirement already satisfied: tabulate in /usr/local/lib/python3.9/dist-packages (from openmim<0.4.0,>0.1.5->autogluon.multimodal==0.7.0->autogluon) (0.9.0)\n",
      "Requirement already satisfied: rich in /usr/local/lib/python3.9/dist-packages (from openmim<0.4.0,>0.1.5->autogluon.multimodal==0.7.0->autogluon) (13.2.0)\n",
      "Requirement already satisfied: pytz>=2020.1 in /usr/local/lib/python3.9/dist-packages (from pandas<1.6,>=1.4.1->autogluon.core[all]==0.7.0->autogluon) (2022.7.1)\n",
      "Requirement already satisfied: python-dateutil>=2.8.1 in /usr/local/lib/python3.9/dist-packages (from pandas<1.6,>=1.4.1->autogluon.core[all]==0.7.0->autogluon) (2.8.2)\n",
      "Requirement already satisfied: Cython!=0.29.18,>=0.29 in /usr/local/lib/python3.9/dist-packages (from pmdarima<1.9,>=1.8.2->autogluon.timeseries[all]==0.7.0->autogluon) (0.29.32)\n",
      "Requirement already satisfied: urllib3 in /usr/local/lib/python3.9/dist-packages (from pmdarima<1.9,>=1.8.2->autogluon.timeseries[all]==0.7.0->autogluon) (1.26.14)\n",
      "Requirement already satisfied: lightning-utilities>=0.6.0.post0 in /usr/local/lib/python3.9/dist-packages (from pytorch-lightning<1.10.0,>=1.9.0->autogluon.multimodal==0.7.0->autogluon) (0.8.0)\n",
      "Requirement already satisfied: aiosignal in /usr/local/lib/python3.9/dist-packages (from ray[tune]<2.3,>=2.2->autogluon.core[all]==0.7.0->autogluon) (1.3.1)\n",
      "Requirement already satisfied: grpcio>=1.32.0 in /usr/local/lib/python3.9/dist-packages (from ray[tune]<2.3,>=2.2->autogluon.core[all]==0.7.0->autogluon) (1.51.1)\n",
      "Requirement already satisfied: msgpack<2.0.0,>=1.0.0 in /usr/local/lib/python3.9/dist-packages (from ray[tune]<2.3,>=2.2->autogluon.core[all]==0.7.0->autogluon) (1.0.4)\n",
      "Requirement already satisfied: virtualenv>=20.0.24 in /usr/local/lib/python3.9/dist-packages (from ray[tune]<2.3,>=2.2->autogluon.core[all]==0.7.0->autogluon) (20.21.0)\n",
      "Requirement already satisfied: protobuf!=3.19.5,>=3.15.3 in /usr/local/lib/python3.9/dist-packages (from ray[tune]<2.3,>=2.2->autogluon.core[all]==0.7.0->autogluon) (3.19.6)\n",
      "Requirement already satisfied: frozenlist in /usr/local/lib/python3.9/dist-packages (from ray[tune]<2.3,>=2.2->autogluon.core[all]==0.7.0->autogluon) (1.3.3)\n",
      "Requirement already satisfied: filelock in /usr/local/lib/python3.9/dist-packages (from ray[tune]<2.3,>=2.2->autogluon.core[all]==0.7.0->autogluon) (3.9.0)\n",
      "Requirement already satisfied: tensorboardX>=1.9 in /usr/local/lib/python3.9/dist-packages (from ray[tune]<2.3,>=2.2->autogluon.core[all]==0.7.0->autogluon) (2.6)\n",
      "Requirement already satisfied: certifi>=2017.4.17 in /usr/lib/python3/dist-packages (from requests->autogluon.core[all]==0.7.0->autogluon) (2019.11.28)\n",
      "Requirement already satisfied: idna<4,>=2.5 in /usr/lib/python3/dist-packages (from requests->autogluon.core[all]==0.7.0->autogluon) (2.8)\n",
      "Requirement already satisfied: charset-normalizer<4,>=2 in /usr/local/lib/python3.9/dist-packages (from requests->autogluon.core[all]==0.7.0->autogluon) (2.1.1)\n",
      "Requirement already satisfied: imageio>=2.4.1 in /usr/local/lib/python3.9/dist-packages (from scikit-image<0.20.0,>=0.19.1->autogluon.multimodal==0.7.0->autogluon) (2.25.0)\n",
      "Requirement already satisfied: tifffile>=2019.7.26 in /usr/local/lib/python3.9/dist-packages (from scikit-image<0.20.0,>=0.19.1->autogluon.multimodal==0.7.0->autogluon) (2023.1.23.1)\n",
      "Requirement already satisfied: PyWavelets>=1.1.1 in /usr/local/lib/python3.9/dist-packages (from scikit-image<0.20.0,>=0.19.1->autogluon.multimodal==0.7.0->autogluon) (1.4.1)\n",
      "Requirement already satisfied: threadpoolctl>=2.0.0 in /usr/local/lib/python3.9/dist-packages (from scikit-learn<1.3,>=1.0->autogluon.core[all]==0.7.0->autogluon) (3.1.0)\n",
      "Requirement already satisfied: numba>=0.55 in /usr/local/lib/python3.9/dist-packages (from sktime<0.16,>=0.14->autogluon.timeseries[all]==0.7.0->autogluon) (0.56.4)\n",
      "Requirement already satisfied: deprecated>=1.2.13 in /usr/local/lib/python3.9/dist-packages (from sktime<0.16,>=0.14->autogluon.timeseries[all]==0.7.0->autogluon) (1.2.13)\n",
      "Requirement already satisfied: patsy>=0.5.2 in /usr/local/lib/python3.9/dist-packages (from statsmodels<0.14,>=0.13.0->autogluon.timeseries[all]==0.7.0->autogluon) (0.5.3)\n",
      "Requirement already satisfied: absl-py>=0.4 in /usr/local/lib/python3.9/dist-packages (from tensorboard<3,>=2.9->autogluon.multimodal==0.7.0->autogluon) (1.4.0)\n",
      "Requirement already satisfied: markdown>=2.6.8 in /usr/local/lib/python3.9/dist-packages (from tensorboard<3,>=2.9->autogluon.multimodal==0.7.0->autogluon) (3.4.1)\n",
      "Requirement already satisfied: werkzeug>=1.0.1 in /usr/local/lib/python3.9/dist-packages (from tensorboard<3,>=2.9->autogluon.multimodal==0.7.0->autogluon) (2.2.2)\n",
      "Requirement already satisfied: google-auth<3,>=1.6.3 in /usr/local/lib/python3.9/dist-packages (from tensorboard<3,>=2.9->autogluon.multimodal==0.7.0->autogluon) (2.16.0)\n",
      "Requirement already satisfied: tensorboard-data-server<0.7.0,>=0.6.0 in /usr/local/lib/python3.9/dist-packages (from tensorboard<3,>=2.9->autogluon.multimodal==0.7.0->autogluon) (0.6.1)\n",
      "Requirement already satisfied: tensorboard-plugin-wit>=1.6.0 in /usr/local/lib/python3.9/dist-packages (from tensorboard<3,>=2.9->autogluon.multimodal==0.7.0->autogluon) (1.8.1)\n",
      "Requirement already satisfied: google-auth-oauthlib<0.5,>=0.4.1 in /usr/local/lib/python3.9/dist-packages (from tensorboard<3,>=2.9->autogluon.multimodal==0.7.0->autogluon) (0.4.6)\n",
      "Requirement already satisfied: pyDeprecate==0.3.* in /usr/local/lib/python3.9/dist-packages (from torchmetrics<0.9.0,>=0.8.0->autogluon.multimodal==0.7.0->autogluon) (0.3.2)\n",
      "Requirement already satisfied: tokenizers!=0.11.3,<0.14,>=0.11.1 in /usr/local/lib/python3.9/dist-packages (from transformers<4.27.0,>=4.23.0->autogluon.multimodal==0.7.0->autogluon) (0.12.1)\n",
      "Requirement already satisfied: fonttools>=4.22.0 in /usr/local/lib/python3.9/dist-packages (from matplotlib->autogluon.core[all]==0.7.0->autogluon) (4.38.0)\n",
      "Requirement already satisfied: pyparsing>=2.2.1 in /usr/local/lib/python3.9/dist-packages (from matplotlib->autogluon.core[all]==0.7.0->autogluon) (3.0.9)\n",
      "Requirement already satisfied: kiwisolver>=1.0.1 in /usr/local/lib/python3.9/dist-packages (from matplotlib->autogluon.core[all]==0.7.0->autogluon) (1.4.4)\n",
      "Requirement already satisfied: cycler>=0.10 in /usr/local/lib/python3.9/dist-packages (from matplotlib->autogluon.core[all]==0.7.0->autogluon) (0.11.0)\n",
      "Requirement already satisfied: contourpy>=1.0.1 in /usr/local/lib/python3.9/dist-packages (from matplotlib->autogluon.core[all]==0.7.0->autogluon) (1.0.7)\n",
      "Requirement already satisfied: aiohttp in /usr/local/lib/python3.9/dist-packages (from datasets>=2.0.0->evaluate<0.4.0,>=0.2.2->autogluon.multimodal==0.7.0->autogluon) (3.8.3)\n",
      "Requirement already satisfied: pyarrow>=6.0.0 in /usr/local/lib/python3.9/dist-packages (from datasets>=2.0.0->evaluate<0.4.0,>=0.2.2->autogluon.multimodal==0.7.0->autogluon) (10.0.1)\n",
      "Requirement already satisfied: wrapt<2,>=1.10 in /usr/local/lib/python3.9/dist-packages (from deprecated>=1.2.13->sktime<0.16,>=0.14->autogluon.timeseries[all]==0.7.0->autogluon) (1.14.1)\n",
      "Requirement already satisfied: beautifulsoup4 in /usr/local/lib/python3.9/dist-packages (from gdown>=4.0.0->nlpaug<1.2.0,>=1.1.10->autogluon.multimodal==0.7.0->autogluon) (4.11.1)\n",
      "Requirement already satisfied: cachetools<6.0,>=2.0.0 in /usr/local/lib/python3.9/dist-packages (from google-auth<3,>=1.6.3->tensorboard<3,>=2.9->autogluon.multimodal==0.7.0->autogluon) (5.3.0)\n",
      "Requirement already satisfied: pyasn1-modules>=0.2.1 in /usr/local/lib/python3.9/dist-packages (from google-auth<3,>=1.6.3->tensorboard<3,>=2.9->autogluon.multimodal==0.7.0->autogluon) (0.2.8)\n",
      "Requirement already satisfied: rsa<5,>=3.1.4 in /usr/local/lib/python3.9/dist-packages (from google-auth<3,>=1.6.3->tensorboard<3,>=2.9->autogluon.multimodal==0.7.0->autogluon) (4.7.2)\n",
      "Requirement already satisfied: requests-oauthlib>=0.7.0 in /usr/local/lib/python3.9/dist-packages (from google-auth-oauthlib<0.5,>=0.4.1->tensorboard<3,>=2.9->autogluon.multimodal==0.7.0->autogluon) (1.3.1)\n",
      "Requirement already satisfied: importlib-metadata>=4.4 in /usr/local/lib/python3.9/dist-packages (from markdown>=2.6.8->tensorboard<3,>=2.9->autogluon.multimodal==0.7.0->autogluon) (6.0.0)\n",
      "Requirement already satisfied: llvmlite<0.40,>=0.39.0dev0 in /usr/local/lib/python3.9/dist-packages (from numba>=0.55->sktime<0.16,>=0.14->autogluon.timeseries[all]==0.7.0->autogluon) (0.39.1)\n",
      "Requirement already satisfied: wasabi<1.1.0,>=0.9.1 in /usr/local/lib/python3.9/dist-packages (from spacy<4->fastai<2.8,>=2.3.1->autogluon.tabular[all]==0.7.0->autogluon) (0.10.1)\n",
      "Requirement already satisfied: pathy>=0.3.5 in /usr/local/lib/python3.9/dist-packages (from spacy<4->fastai<2.8,>=2.3.1->autogluon.tabular[all]==0.7.0->autogluon) (0.10.1)\n",
      "Requirement already satisfied: thinc<8.2.0,>=8.1.0 in /usr/local/lib/python3.9/dist-packages (from spacy<4->fastai<2.8,>=2.3.1->autogluon.tabular[all]==0.7.0->autogluon) (8.1.7)\n",
      "Requirement already satisfied: typer<0.5.0,>=0.3.0 in /usr/local/lib/python3.9/dist-packages (from spacy<4->fastai<2.8,>=2.3.1->autogluon.tabular[all]==0.7.0->autogluon) (0.4.2)\n",
      "Requirement already satisfied: spacy-loggers<2.0.0,>=1.0.0 in /usr/local/lib/python3.9/dist-packages (from spacy<4->fastai<2.8,>=2.3.1->autogluon.tabular[all]==0.7.0->autogluon) (1.0.4)\n",
      "Requirement already satisfied: srsly<3.0.0,>=2.4.3 in /usr/local/lib/python3.9/dist-packages (from spacy<4->fastai<2.8,>=2.3.1->autogluon.tabular[all]==0.7.0->autogluon) (2.4.5)\n",
      "Requirement already satisfied: cymem<2.1.0,>=2.0.2 in /usr/local/lib/python3.9/dist-packages (from spacy<4->fastai<2.8,>=2.3.1->autogluon.tabular[all]==0.7.0->autogluon) (2.0.7)\n",
      "Requirement already satisfied: catalogue<2.1.0,>=2.0.6 in /usr/local/lib/python3.9/dist-packages (from spacy<4->fastai<2.8,>=2.3.1->autogluon.tabular[all]==0.7.0->autogluon) (2.0.8)\n",
      "Requirement already satisfied: langcodes<4.0.0,>=3.2.0 in /usr/local/lib/python3.9/dist-packages (from spacy<4->fastai<2.8,>=2.3.1->autogluon.tabular[all]==0.7.0->autogluon) (3.3.0)\n",
      "Requirement already satisfied: spacy-legacy<3.1.0,>=3.0.9 in /usr/local/lib/python3.9/dist-packages (from spacy<4->fastai<2.8,>=2.3.1->autogluon.tabular[all]==0.7.0->autogluon) (3.0.12)\n",
      "Requirement already satisfied: murmurhash<1.1.0,>=0.28.0 in /usr/local/lib/python3.9/dist-packages (from spacy<4->fastai<2.8,>=2.3.1->autogluon.tabular[all]==0.7.0->autogluon) (1.0.9)\n",
      "Requirement already satisfied: preshed<3.1.0,>=3.0.2 in /usr/local/lib/python3.9/dist-packages (from spacy<4->fastai<2.8,>=2.3.1->autogluon.tabular[all]==0.7.0->autogluon) (3.0.8)\n",
      "Requirement already satisfied: platformdirs<4,>=2.4 in /usr/local/lib/python3.9/dist-packages (from virtualenv>=20.0.24->ray[tune]<2.3,>=2.2->autogluon.core[all]==0.7.0->autogluon) (2.6.2)\n",
      "Requirement already satisfied: distlib<1,>=0.3.6 in /usr/local/lib/python3.9/dist-packages (from virtualenv>=20.0.24->ray[tune]<2.3,>=2.2->autogluon.core[all]==0.7.0->autogluon) (0.3.6)\n",
      "Requirement already satisfied: ordered-set in /usr/local/lib/python3.9/dist-packages (from model-index->openmim<0.4.0,>0.1.5->autogluon.multimodal==0.7.0->autogluon) (4.1.0)\n",
      "Requirement already satisfied: tenacity>=6.2.0 in /usr/local/lib/python3.9/dist-packages (from plotly->catboost<1.2,>=1.0->autogluon.tabular[all]==0.7.0->autogluon) (8.2.2)\n",
      "Requirement already satisfied: pygments<3.0.0,>=2.6.0 in /usr/local/lib/python3.9/dist-packages (from rich->openmim<0.4.0,>0.1.5->autogluon.multimodal==0.7.0->autogluon) (2.14.0)\n",
      "Requirement already satisfied: markdown-it-py<3.0.0,>=2.1.0 in /usr/local/lib/python3.9/dist-packages (from rich->openmim<0.4.0,>0.1.5->autogluon.multimodal==0.7.0->autogluon) (2.1.0)\n",
      "Requirement already satisfied: multidict<7.0,>=4.5 in /usr/local/lib/python3.9/dist-packages (from aiohttp->datasets>=2.0.0->evaluate<0.4.0,>=0.2.2->autogluon.multimodal==0.7.0->autogluon) (6.0.4)\n",
      "Requirement already satisfied: yarl<2.0,>=1.0 in /usr/local/lib/python3.9/dist-packages (from aiohttp->datasets>=2.0.0->evaluate<0.4.0,>=0.2.2->autogluon.multimodal==0.7.0->autogluon) (1.8.2)\n",
      "Requirement already satisfied: async-timeout<5.0,>=4.0.0a3 in /usr/local/lib/python3.9/dist-packages (from aiohttp->datasets>=2.0.0->evaluate<0.4.0,>=0.2.2->autogluon.multimodal==0.7.0->autogluon) (4.0.2)\n",
      "Requirement already satisfied: zipp>=0.5 in /usr/local/lib/python3.9/dist-packages (from importlib-metadata>=4.4->markdown>=2.6.8->tensorboard<3,>=2.9->autogluon.multimodal==0.7.0->autogluon) (3.11.0)\n",
      "Requirement already satisfied: mdurl~=0.1 in /usr/local/lib/python3.9/dist-packages (from markdown-it-py<3.0.0,>=2.1.0->rich->openmim<0.4.0,>0.1.5->autogluon.multimodal==0.7.0->autogluon) (0.1.2)\n",
      "Requirement already satisfied: smart-open<7.0.0,>=5.2.1 in /usr/local/lib/python3.9/dist-packages (from pathy>=0.3.5->spacy<4->fastai<2.8,>=2.3.1->autogluon.tabular[all]==0.7.0->autogluon) (6.3.0)\n",
      "Requirement already satisfied: pyasn1<0.5.0,>=0.4.6 in /usr/local/lib/python3.9/dist-packages (from pyasn1-modules>=0.2.1->google-auth<3,>=1.6.3->tensorboard<3,>=2.9->autogluon.multimodal==0.7.0->autogluon) (0.4.8)\n",
      "Requirement already satisfied: oauthlib>=3.0.0 in /usr/local/lib/python3.9/dist-packages (from requests-oauthlib>=0.7.0->google-auth-oauthlib<0.5,>=0.4.1->tensorboard<3,>=2.9->autogluon.multimodal==0.7.0->autogluon) (3.2.2)\n",
      "Requirement already satisfied: blis<0.8.0,>=0.7.8 in /usr/local/lib/python3.9/dist-packages (from thinc<8.2.0,>=8.1.0->spacy<4->fastai<2.8,>=2.3.1->autogluon.tabular[all]==0.7.0->autogluon) (0.7.9)\n",
      "Requirement already satisfied: confection<1.0.0,>=0.0.1 in /usr/local/lib/python3.9/dist-packages (from thinc<8.2.0,>=8.1.0->spacy<4->fastai<2.8,>=2.3.1->autogluon.tabular[all]==0.7.0->autogluon) (0.0.4)\n",
      "Requirement already satisfied: soupsieve>1.2 in /usr/local/lib/python3.9/dist-packages (from beautifulsoup4->gdown>=4.0.0->nlpaug<1.2.0,>=1.1.10->autogluon.multimodal==0.7.0->autogluon) (2.3.2.post1)\n",
      "Requirement already satisfied: PySocks!=1.5.7,>=1.5.6 in /usr/local/lib/python3.9/dist-packages (from requests->autogluon.core[all]==0.7.0->autogluon) (1.7.1)\n",
      "\u001b[33mWARNING: Ignoring invalid distribution -ransformers (/usr/local/lib/python3.9/dist-packages)\u001b[0m\u001b[33m\n",
      "\u001b[0mInstalling collected packages: timm, statsmodels, seqeval, pytorch-metric-learning, model-index, lightgbm, gluonts, catboost, statsforecast, sktime, pytorch-lightning, pmdarima, openmim, nlpaug, tbats, fastai, evaluate, autogluon.common, autogluon.features, autogluon.core, autogluon.tabular, autogluon.multimodal, autogluon.timeseries, autogluon\n",
      "\u001b[33mWARNING: Ignoring invalid distribution -ransformers (/usr/local/lib/python3.9/dist-packages)\u001b[0m\u001b[33m\n",
      "\u001b[0m\u001b[33mWARNING: Ignoring invalid distribution -ransformers (/usr/local/lib/python3.9/dist-packages)\u001b[0m\u001b[33m\n",
      "\u001b[0m\u001b[33mWARNING: Ignoring invalid distribution -ransformers (/usr/local/lib/python3.9/dist-packages)\u001b[0m\u001b[33m\n",
      "\u001b[0m\u001b[33mWARNING: Ignoring invalid distribution -ransformers (/usr/local/lib/python3.9/dist-packages)\u001b[0m\u001b[33m\n",
      "\u001b[0m\u001b[33mWARNING: Ignoring invalid distribution -ransformers (/usr/local/lib/python3.9/dist-packages)\u001b[0m\u001b[33m\n",
      "\u001b[0m\u001b[33mWARNING: Ignoring invalid distribution -ransformers (/usr/local/lib/python3.9/dist-packages)\u001b[0m\u001b[33m\n",
      "\u001b[0m\u001b[33mWARNING: Ignoring invalid distribution -ransformers (/usr/local/lib/python3.9/dist-packages)\u001b[0m\u001b[33m\n",
      "\u001b[0m\u001b[33mWARNING: Ignoring invalid distribution -ransformers (/usr/local/lib/python3.9/dist-packages)\u001b[0m\u001b[33m\n",
      "\u001b[0m\u001b[33mWARNING: Ignoring invalid distribution -ransformers (/usr/local/lib/python3.9/dist-packages)\u001b[0m\u001b[33m\n",
      "\u001b[0m\u001b[33mWARNING: Ignoring invalid distribution -ransformers (/usr/local/lib/python3.9/dist-packages)\u001b[0m\u001b[33m\n",
      "\u001b[0m\u001b[33mWARNING: Ignoring invalid distribution -ransformers (/usr/local/lib/python3.9/dist-packages)\u001b[0m\u001b[33m\n",
      "\u001b[0m\u001b[33mWARNING: Ignoring invalid distribution -ransformers (/usr/local/lib/python3.9/dist-packages)\u001b[0m\u001b[33m\n",
      "\u001b[0m\u001b[33mWARNING: Ignoring invalid distribution -ransformers (/usr/local/lib/python3.9/dist-packages)\u001b[0m\u001b[33m\n",
      "\u001b[0m\u001b[33mWARNING: Ignoring invalid distribution -ransformers (/usr/local/lib/python3.9/dist-packages)\u001b[0m\u001b[33m\n",
      "\u001b[0m\u001b[33mWARNING: Ignoring invalid distribution -ransformers (/usr/local/lib/python3.9/dist-packages)\u001b[0m\u001b[33m\n",
      "\u001b[0m\u001b[33mWARNING: Ignoring invalid distribution -ransformers (/usr/local/lib/python3.9/dist-packages)\u001b[0m\u001b[33m\n",
      "\u001b[0m\u001b[33mWARNING: Ignoring invalid distribution -ransformers (/usr/local/lib/python3.9/dist-packages)\u001b[0m\u001b[33m\n",
      "\u001b[0m\u001b[33mWARNING: Ignoring invalid distribution -ransformers (/usr/local/lib/python3.9/dist-packages)\u001b[0m\u001b[33m\n",
      "\u001b[0m\u001b[33mWARNING: Ignoring invalid distribution -ransformers (/usr/local/lib/python3.9/dist-packages)\u001b[0m\u001b[33m\n",
      "\u001b[0m\u001b[33mWARNING: Ignoring invalid distribution -ransformers (/usr/local/lib/python3.9/dist-packages)\u001b[0m\u001b[33m\n",
      "\u001b[0m\u001b[33mWARNING: Ignoring invalid distribution -ransformers (/usr/local/lib/python3.9/dist-packages)\u001b[0m\u001b[33m\n",
      "\u001b[0m\u001b[33mWARNING: Ignoring invalid distribution -ransformers (/usr/local/lib/python3.9/dist-packages)\u001b[0m\u001b[33m\n",
      "\u001b[0m\u001b[33mWARNING: Ignoring invalid distribution -ransformers (/usr/local/lib/python3.9/dist-packages)\u001b[0m\u001b[33m\n",
      "\u001b[0m\u001b[33mWARNING: Ignoring invalid distribution -ransformers (/usr/local/lib/python3.9/dist-packages)\u001b[0m\u001b[33m\n",
      "\u001b[0mSuccessfully installed autogluon-0.7.0 autogluon.common-0.7.0 autogluon.core-0.7.0 autogluon.features-0.7.0 autogluon.multimodal-0.7.0 autogluon.tabular-0.7.0 autogluon.timeseries-0.7.0 catboost-1.1.1 evaluate-0.3.0 fastai-2.7.12 gluonts-0.12.5 lightgbm-3.3.5 model-index-0.1.11 nlpaug-1.1.11 openmim-0.3.7 pmdarima-1.8.5 pytorch-lightning-1.9.4 pytorch-metric-learning-1.7.3 seqeval-1.2.2 sktime-0.15.1 statsforecast-1.4.0 statsmodels-0.13.5 tbats-1.1.2 timm-0.6.13\n",
      "\u001b[33mWARNING: Running pip as the 'root' user can result in broken permissions and conflicting behaviour with the system package manager. It is recommended to use a virtual environment instead: https://pip.pypa.io/warnings/venv\u001b[0m\u001b[33m\n",
      "\u001b[0m"
     ]
    }
   ],
   "source": [
    "!pip install autogluon"
   ]
  },
  {
   "cell_type": "code",
   "execution_count": 7,
   "id": "4fa40693-6568-45b2-befb-c42623ff166c",
   "metadata": {},
   "outputs": [],
   "source": [
    "import pandas as pd\n",
    "import numpy as np\n",
    "import Bio\n",
    "\n",
    "from rdkit import Chem\n",
    "from rdkit.Chem import rdFingerprintGenerator\n",
    "from rdkit.Chem.Draw import IPythonConsole\n",
    "from rdkit import DataStructs\n",
    "from rdkit.DataStructs import ConvertToNumpyArray\n",
    "import rdkit\n",
    "\n",
    "import requests as r\n",
    "from Bio import SeqIO\n",
    "from io import StringIO\n",
    "from chembl_webresource_client.new_client import new_client\n",
    "from multiprocessing import Pool, cpu_count\n",
    "\n",
    "import sklearn\n",
    "from sklearn.model_selection import GroupKFold\n",
    "from sklearn.metrics import mean_squared_error\n",
    "from scipy.stats import spearmanr\n",
    "\n",
    "import gc\n",
    "from functools import reduce\n",
    "import multiprocessing\n",
    "from tqdm import tqdm\n",
    "\n",
    "import peptides\n",
    "import propy\n",
    "from propy import PyPro\n",
    "\n",
    "import joblib\n",
    "from joblib import dump, load\n",
    "import os\n",
    "\n",
    "from autogluon.features.generators import AutoMLPipelineFeatureGenerator\n",
    "from autogluon.tabular import FeatureMetadata\n",
    "from autogluon.tabular import TabularDataset, TabularPredictor\n",
    "\n",
    "import time\n",
    "from requests.exceptions import Timeout"
   ]
  },
  {
   "cell_type": "markdown",
   "id": "21834bc1-74d3-4450-8e4d-e218820b72c3",
   "metadata": {},
   "source": [
    "# Feature Generation"
   ]
  },
  {
   "cell_type": "code",
   "execution_count": 8,
   "id": "4d87d08c-d2a0-4368-93e0-8bd9b095e887",
   "metadata": {},
   "outputs": [],
   "source": [
    "# Convert protein uniprot ids to sequences for feature generation.\n",
    "def uniprot_to_fasta(df):\n",
    "    uniprot_ids = df[\"target_id\"].drop_duplicates().tolist()\n",
    "    baseUrl = \"https://rest.uniprot.org/uniprotkb/\"\n",
    "    seq = []\n",
    "    for id in tqdm(uniprot_ids, desc=\"Converting uniprot IDs to protein sequences\"):\n",
    "        currentUrl = baseUrl + id + \".fasta\"\n",
    "        response = r.get(currentUrl)\n",
    "        Seq = StringIO(response.text)\n",
    "        pSeq = list(SeqIO.parse(Seq, \"fasta\"))\n",
    "        if not pSeq:  # Check if pSeq is empty\n",
    "            seq.append(\"\")  # Append an empty string if no sequence was found\n",
    "            print(f\"Warning: No sequence found for Uniprot ID {id}.\")\n",
    "        else:\n",
    "            seq_records = []\n",
    "            for seq_record in pSeq:\n",
    "                seq_records.append(str(seq_record.seq))\n",
    "                break\n",
    "            seq.append(seq_records[0])\n",
    "    df[\"sequence\"] = df[\"target_id\"].map(dict(zip(uniprot_ids, seq)))\n",
    "    df.dropna(inplace=True)\n",
    "    df.reset_index(drop=True, inplace=True)\n",
    "    return df\n",
    "\n",
    "\n",
    "# for converting chembl id to smiles strings in batches, avoids timeout errors using the chembl web api.\n",
    "def process_batch(batch):\n",
    "    molecules = new_client.molecule.filter(molecule_chembl_id__in=batch).only(\n",
    "        \"molecule_chembl_id\", \"molecule_structures\"\n",
    "    )\n",
    "    smiles = []\n",
    "    chembl_ids_with_smiles = []\n",
    "    for molecule in molecules:\n",
    "        if (\n",
    "            molecule[\"molecule_structures\"] is not None\n",
    "            and \"canonical_smiles\" in molecule[\"molecule_structures\"]\n",
    "        ):\n",
    "            smiles.append(molecule[\"molecule_structures\"][\"canonical_smiles\"])\n",
    "            chembl_ids_with_smiles.append(molecule[\"molecule_chembl_id\"])\n",
    "    return dict(zip(chembl_ids_with_smiles, smiles))\n",
    "\n",
    "\n",
    "# convert compound chembl ids to smiles strings for molecular feature generations, multiprocessing to speed up process.\n",
    "def chembl_to_smiles(df):\n",
    "    chembl_ids = df[\"compound_id\"].unique().tolist()\n",
    "    batch_size = 500\n",
    "    chembl_id_batches = [\n",
    "        chembl_ids[i : i + batch_size] for i in range(0, len(chembl_ids), batch_size)\n",
    "    ]\n",
    "    num_processes = cpu_count()\n",
    "    with Pool(num_processes) as pool:\n",
    "        results = []\n",
    "        for result in tqdm(\n",
    "            pool.imap_unordered(process_batch, chembl_id_batches),\n",
    "            total=len(chembl_id_batches),\n",
    "        ):\n",
    "            results.append(result)\n",
    "    merged_results = {}\n",
    "    for d in results:\n",
    "        merged_results.update(d)\n",
    "    df[\"compound_smiles\"] = df[\"compound_id\"].map(merged_results)\n",
    "    df.dropna(inplace=True)\n",
    "    df.reset_index(drop=True, inplace=True)\n",
    "    return df\n",
    "\n",
    "\n",
    "# generate a molecule from a smiles string.\n",
    "def smi_to_mol(smi):\n",
    "    return Chem.MolFromSmiles(smi)\n",
    "\n",
    "\n",
    "# multiprocess the smiles to molecule conversion to speed up the process.\n",
    "def smiles_to_rdkit_mol(df):\n",
    "    with Pool(cpu_count()) as p:\n",
    "        mols = p.map(smi_to_mol, df[\"compound_smiles\"])\n",
    "    mols = [mol for mol in mols if mol is not None]\n",
    "    return mols\n",
    "\n",
    "\n",
    "# generate molecular fingerprints (morgan300, toptorsion300) from smiles strings.\n",
    "def fingerprint_generation(\n",
    "    df, ncounts\n",
    "):  # returns a df with molecular fingerprints, ncounts is the number of count vectors.\n",
    "    mols = smiles_to_rdkit_mol(df)\n",
    "    # fingerprint generation\n",
    "    mfpgen = rdFingerprintGenerator.GetMorganGenerator(\n",
    "        radius=2, fpSize=ncounts\n",
    "    )  # morgan300 fingerprint\n",
    "    ttgen = rdFingerprintGenerator.GetTopologicalTorsionGenerator(\n",
    "        fpSize=ncounts\n",
    "    )  # TopologicalTorsion300 Fingerprint\n",
    "    mfp_matrix = np.zeros((len(mols), ncounts), dtype=int)\n",
    "    tt_matrix = np.zeros((len(mols), ncounts), dtype=int)\n",
    "    mfp_fingerprints = [\n",
    "        mfpgen.GetCountFingerprint(mol)\n",
    "        for mol in tqdm(mols, desc=\"Generating Morgan fingerprints\", unit=\" molecule\")\n",
    "    ]\n",
    "    tt_fingerprints = [\n",
    "        ttgen.GetCountFingerprint(mol)\n",
    "        for mol in tqdm(\n",
    "            mols, desc=\"Generating Topological Torsion fingerprints\", unit=\" molecule\"\n",
    "        )\n",
    "    ]\n",
    "\n",
    "    for i, fingerprint in enumerate(mfp_fingerprints):\n",
    "        ConvertToNumpyArray(fingerprint, mfp_matrix[i])\n",
    "    mfp_df = pd.DataFrame(\n",
    "        mfp_matrix, columns=[f\"morg_count_fp_{i}\" for i in range(ncounts)]\n",
    "    ).astype(\"int8\")\n",
    "\n",
    "    for i, fingerprint in enumerate(tt_fingerprints):\n",
    "        ConvertToNumpyArray(fingerprint, tt_matrix[i])\n",
    "    tt_df = pd.DataFrame(\n",
    "        tt_matrix, columns=[f\"tt_fp_{i}\" for i in range(ncounts)]\n",
    "    ).astype(\"int8\")\n",
    "\n",
    "    merged_df = pd.concat([df, mfp_df, tt_df], axis=1)\n",
    "    return merged_df\n",
    "\n",
    "\n",
    "# for calculating propy protein descriptors.\n",
    "def calculate_descriptors(unique_seqs, calculation_function):\n",
    "    unique_descriptors = {}\n",
    "    for seq in tqdm(unique_seqs, desc=\"Calculating propy package descriptors\"):\n",
    "        unique_descriptors[seq] = calculation_function(seq)\n",
    "    descriptor_names = set().union(*unique_descriptors.values())\n",
    "    descriptor_dict = {}\n",
    "    for name in descriptor_names:\n",
    "        descriptor_dict[name] = {}\n",
    "        for seq, desc in unique_descriptors.items():\n",
    "            descriptor_dict[name][seq] = desc.get(name, None)\n",
    "    return descriptor_dict\n",
    "\n",
    "\n",
    "# function to generate all required protein descriptors for model training.\n",
    "def protein_feature_generation(df):\n",
    "    unique_seqs = set(df[\"sequence\"])\n",
    "\n",
    "    # Calculate descriptors using peptides library with full code, different syntax required.\n",
    "    unique_descriptors = {}\n",
    "    for seq in tqdm(unique_seqs, desc=\"Calculating all peptide package descriptors\"):\n",
    "        unique_descriptors[seq] = peptides.Peptide(seq).descriptors()\n",
    "\n",
    "    descriptor_names = set().union(*unique_descriptors.values())\n",
    "    descriptor_dict = {}\n",
    "    for name in descriptor_names:\n",
    "        descriptor_dict[name] = {}\n",
    "        for seq, desc in unique_descriptors.items():\n",
    "            descriptor_dict[name][seq] = desc.get(name, None)\n",
    "    peptide_df = pd.DataFrame.from_dict(descriptor_dict)\n",
    "    peptide_df[\"sequence\"] = peptide_df.index\n",
    "\n",
    "    # Calculate descriptors using propy.CTD library\n",
    "    unique_descriptors = calculate_descriptors(unique_seqs, propy.CTD.CalculateCTD)\n",
    "\n",
    "    ctd_df = pd.DataFrame.from_dict(unique_descriptors)\n",
    "    ctd_df[\"sequence\"] = ctd_df.index\n",
    "\n",
    "    # Calculate descriptors using propy.Autocorrelation library\n",
    "    unique_descriptors = calculate_descriptors(\n",
    "        unique_seqs, propy.Autocorrelation.CalculateGearyAutoTotal\n",
    "    )\n",
    "    autocorr_df = pd.DataFrame.from_dict(unique_descriptors)\n",
    "    autocorr_df[\"sequence\"] = autocorr_df.index\n",
    "\n",
    "    # Calculate descriptors using propy.AAComposition library\n",
    "    unique_descriptors = calculate_descriptors(\n",
    "        unique_seqs, propy.AAComposition.CalculateAAComposition\n",
    "    )\n",
    "    aa_df = pd.DataFrame.from_dict(unique_descriptors)\n",
    "    aa_df[\"sequence\"] = aa_df.index\n",
    "\n",
    "    # Merge all dataframes into one\n",
    "    df = pd.merge(df, peptide_df, on=\"sequence\")\n",
    "    df = pd.merge(df, ctd_df, on=\"sequence\")\n",
    "    df = pd.merge(df, autocorr_df, on=\"sequence\")\n",
    "    df = pd.merge(df, aa_df, on=\"sequence\")\n",
    "\n",
    "    df[\"sequence_length\"] = df[\"sequence\"].str.len()\n",
    "\n",
    "    return df"
   ]
  },
  {
   "cell_type": "code",
   "execution_count": null,
   "id": "91240b82-9c4d-42e4-9e89-061f48c8bc5b",
   "metadata": {},
   "outputs": [
    {
     "name": "stderr",
     "output_type": "stream",
     "text": [
      "Converting uniprot IDs to protein sequences:  12%|█▏        | 389/3321 [02:49<26:18,  1.86it/s]  "
     ]
    },
    {
     "name": "stdout",
     "output_type": "stream",
     "text": [
      "Warning: No sequence found for Uniprot ID Q7YY76.\n"
     ]
    },
    {
     "name": "stderr",
     "output_type": "stream",
     "text": [
      "Converting uniprot IDs to protein sequences:  12%|█▏        | 390/3321 [02:50<24:04,  2.03it/s]"
     ]
    },
    {
     "name": "stdout",
     "output_type": "stream",
     "text": [
      "Warning: No sequence found for Uniprot ID Q7YY07.\n"
     ]
    },
    {
     "name": "stderr",
     "output_type": "stream",
     "text": [
      "Converting uniprot IDs to protein sequences:  19%|█▊        | 616/3321 [04:20<21:07,  2.13it/s]"
     ]
    },
    {
     "name": "stdout",
     "output_type": "stream",
     "text": [
      "Warning: No sequence found for Uniprot ID P04745.\n"
     ]
    },
    {
     "name": "stderr",
     "output_type": "stream",
     "text": [
      "Converting uniprot IDs to protein sequences:  47%|████▋     | 1551/3321 [10:47<11:05,  2.66it/s]"
     ]
    },
    {
     "name": "stdout",
     "output_type": "stream",
     "text": [
      "Warning: No sequence found for Uniprot ID Q98UH1.\n"
     ]
    },
    {
     "name": "stderr",
     "output_type": "stream",
     "text": [
      "Converting uniprot IDs to protein sequences:  55%|█████▌    | 1838/3321 [12:49<09:54,  2.50it/s]"
     ]
    },
    {
     "name": "stdout",
     "output_type": "stream",
     "text": [
      "Warning: No sequence found for Uniprot ID E2RDN4.\n"
     ]
    },
    {
     "name": "stderr",
     "output_type": "stream",
     "text": [
      "Converting uniprot IDs to protein sequences: 100%|██████████| 3321/3321 [23:31<00:00,  2.35it/s]\n",
      " 54%|█████▎    | 450/841 [23:11<22:52,  3.51s/it] "
     ]
    }
   ],
   "source": [
    "# load csv\n",
    "train = pd.read_csv('train_dataframe.csv')\n",
    "# convert uniprot to sequence\n",
    "train = uniprot_to_fasta(train)\n",
    "# convert chembl to smiles\n",
    "train = chembl_to_smiles(train)\n",
    "# generate molecular fingerprints\n",
    "train = fingerprint_generation(train)\n",
    "# generate protein features\n",
    "train =protein_feature_generation(train)"
   ]
  },
  {
   "cell_type": "code",
   "execution_count": null,
   "id": "13923c8f-ad7d-4d93-88a0-b4133fd446fd",
   "metadata": {
    "tags": []
   },
   "outputs": [],
   "source": [
    "def train_autogluon(df):\n",
    "    exclude_autogluon= ['compound_id','target_id','group','sequence','compound_smiles']\n",
    "    features_autogluon = [c for c in df.columns if c not in exclude_autogluon]\n",
    "    os.system('mkdir autogluon_models_check')\n",
    "    autogluon_folds = 10\n",
    "    gkf = GroupKFold(n_splits=autogluon_folds)\n",
    "    oof = np.zeros(len(train))\n",
    "    for fold,(train_idx, valid_idx) in enumerate(gkf.split(\n",
    "                df, df.pchembl_value,df.group)):\n",
    "        print('#'*25)\n",
    "        print('### Fold',fold+1)\n",
    "        print('### Train size',len(train_idx),'Valid size',len(valid_idx))\n",
    "        print('#'*25)\n",
    "        X_train = df.loc[train_idx, features_autogluon]\n",
    "        y_train = df.loc[train_idx,'pchembl_value']\n",
    "        X_valid = df.loc[valid_idx, features_autogluon]\n",
    "        y_valid = df.loc[valid_idx,'pchembl_value']\n",
    "        predictor = TabularPredictor(label = 'pchembl_value', problem_type='regression', eval_metric='rmse', path=f'./autogluon_models_check/fold{fold}')\n",
    "        predictor.fit(train_data = X_train,tuning_data = X_valid, time_limit=5*60*60, auto_stack = False,\n",
    "                      _save_bag_folds = False,hyperparameters='light', keep_only_best= True,excluded_model_types=['CAT','RF','XT','FASTAI'], save_space=True)\n",
    "        predictor.leaderboard(X_valid)\n",
    "        model = TabularPredictor.load(f'./autogluon_models_check/fold{fold}/')\n",
    "        oof_preds = model.predict(X_valid)\n",
    "        oof[valid_idx] = oof_preds\n",
    "    rmse = mean_squared_error(df.pchembl_value, oof,squared=False)\n",
    "    print('OVERALL rmse =',rmse,'\\n')\n",
    "    df['autogluon_oof'] = oof\n",
    "    return df"
   ]
  },
  {
   "cell_type": "code",
   "execution_count": null,
   "id": "12eeee1e-1a21-41b4-81b9-6b5b91219226",
   "metadata": {},
   "outputs": [],
   "source": [
    "train = train_autogluon(train)"
   ]
  }
 ],
 "metadata": {
  "kernelspec": {
   "display_name": "Python 3 (ipykernel)",
   "language": "python",
   "name": "python3"
  },
  "language_info": {
   "codemirror_mode": {
    "name": "ipython",
    "version": 3
   },
   "file_extension": ".py",
   "mimetype": "text/x-python",
   "name": "python",
   "nbconvert_exporter": "python",
   "pygments_lexer": "ipython3",
   "version": "3.9.16"
  }
 },
 "nbformat": 4,
 "nbformat_minor": 5
}
